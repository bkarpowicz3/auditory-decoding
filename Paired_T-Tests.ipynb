{
 "cells": [
  {
   "cell_type": "markdown",
   "metadata": {},
   "source": [
    "## CNN Results"
   ]
  },
  {
   "cell_type": "code",
   "execution_count": 2,
   "metadata": {
    "collapsed": true
   },
   "outputs": [],
   "source": [
    "tcr = 81.25; \n",
    "tcr_std = 2.40;\n",
    "tcr_not = 76.25; \n",
    "tcr_std_not = 2.25;\n",
    "\n",
    "rms = 58.67; \n",
    "rms_std = 9.67;\t\n",
    "rms_not = 59.83;\n",
    "rms_std_not = 15.30;\n",
    "\n",
    "gbp = 72.00;\n",
    "gbp_std = 8.38;\n",
    "gbp_not = 68.33;\n",
    "gbp_std_not = 10.33;\n",
    "\n",
    "with_time = [tcr, rms, gbp];\n",
    "without_time = [tcr_not, rms_not, gbp_not];\n",
    "with_time_std = [tcr_std, rms_std, gbp_std];\n",
    "without_time_std = [tcr_std_not, rms_std_not, gbp_std_not];"
   ]
  },
  {
   "cell_type": "code",
   "execution_count": 2,
   "metadata": {},
   "outputs": [
    {
     "data": {
      "text/plain": [
       "[Ttest_indResult(statistic=0.41228711225245745, pvalue=0.6909556048069956),\n",
       " Ttest_indResult(statistic=1.1975616791464592, pvalue=0.2653637707808845),\n",
       " Ttest_indResult(statistic=0.8153944775294912, pvalue=0.43844645991917575)]"
      ]
     },
     "execution_count": 2,
     "metadata": {},
     "output_type": "execute_result"
    }
   ],
   "source": [
    "import scipy.stats\n",
    "[scipy.stats.ttest_ind_from_stats(with_time[i], with_time_std[i], 5, without_time[i], without_time_std[i], 5) for i in range(0, 3)]"
   ]
  },
  {
   "cell_type": "markdown",
   "metadata": {
    "collapsed": true
   },
   "source": [
    "## LSTM Results"
   ]
  },
  {
   "cell_type": "code",
   "execution_count": 1,
   "metadata": {
    "collapsed": true
   },
   "outputs": [],
   "source": [
    "tcr = 89.42; \n",
    "tcr_std = 2.37;\n",
    "tcr_not = 88.83; \n",
    "tcr_std_not = 2.15;\n",
    "\n",
    "rms = 81.67; \n",
    "rms_std = 9.13;\t\n",
    "rms_not = 76.67;\n",
    "rms_std_not = 1.95;\n",
    "\n",
    "gbp = 81.58;\n",
    "gbp_std = 6.13;\n",
    "gbp_not = 79.08;\n",
    "gbp_std_not = 3.07;\n",
    "\n",
    "with_time = [tcr, rms, gbp];\n",
    "without_time = [tcr_not, rms_not, gbp_not];\n",
    "with_time_std = [tcr_std, rms_std, gbp_std];\n",
    "without_time_std = [tcr_std_not, rms_std_not, gbp_std_not];"
   ]
  },
  {
   "cell_type": "code",
   "execution_count": 3,
   "metadata": {},
   "outputs": [
    {
     "data": {
      "text/plain": [
       "[Ttest_indResult(statistic=0.41228711225245745, pvalue=0.6909556048069956),\n",
       " Ttest_indResult(statistic=1.1975616791464592, pvalue=0.2653637707808845),\n",
       " Ttest_indResult(statistic=0.8153944775294912, pvalue=0.43844645991917575)]"
      ]
     },
     "execution_count": 3,
     "metadata": {},
     "output_type": "execute_result"
    }
   ],
   "source": [
    "[scipy.stats.ttest_ind_from_stats(with_time[i], with_time_std[i], 5, without_time[i], without_time_std[i], 5) for i in range(0, 3)]"
   ]
  },
  {
   "cell_type": "markdown",
   "metadata": {},
   "source": [
    "## XGBoost Results"
   ]
  },
  {
   "cell_type": "code",
   "execution_count": 4,
   "metadata": {
    "collapsed": true
   },
   "outputs": [],
   "source": [
    "tcr = 88.25; \n",
    "tcr_std = 2.63;\n",
    "tcr_not = 87.17; \n",
    "tcr_std_not = 2.73;\n",
    "\n",
    "rms = 85.83; \n",
    "rms_std = 1.65;\t\n",
    "rms_not = 86.67;\n",
    "rms_std_not = 1.84;\n",
    "\n",
    "gbp = 87.5;\n",
    "gbp_std = 2.02;\n",
    "gbp_not = 86.08;\n",
    "gbp_std_not = 2.02;\n",
    "\n",
    "with_time = [tcr, rms, gbp];\n",
    "without_time = [tcr_not, rms_not, gbp_not];\n",
    "with_time_std = [tcr_std, rms_std, gbp_std];\n",
    "without_time_std = [tcr_std_not, rms_std_not, gbp_std_not];"
   ]
  },
  {
   "cell_type": "code",
   "execution_count": 5,
   "metadata": {},
   "outputs": [
    {
     "data": {
      "text/plain": [
       "[Ttest_indResult(statistic=0.6370644865881444, pvalue=0.5418798803552349),\n",
       " Ttest_indResult(statistic=-0.7599958467460666, pvalue=0.46905954822060103),\n",
       " Ttest_indResult(statistic=1.1114936330294813, pvalue=0.29864058971627616)]"
      ]
     },
     "execution_count": 5,
     "metadata": {},
     "output_type": "execute_result"
    }
   ],
   "source": [
    "[scipy.stats.ttest_ind_from_stats(with_time[i], with_time_std[i], 5, without_time[i], without_time_std[i], 5) for i in range(0, 3)]"
   ]
  },
  {
   "cell_type": "code",
   "execution_count": null,
   "metadata": {
    "collapsed": true
   },
   "outputs": [],
   "source": []
  }
 ],
 "metadata": {
  "kernelspec": {
   "display_name": "Python [conda env:py34]",
   "language": "python",
   "name": "conda-env-py34-py"
  },
  "language_info": {
   "codemirror_mode": {
    "name": "ipython",
    "version": 3
   },
   "file_extension": ".py",
   "mimetype": "text/x-python",
   "name": "python",
   "nbconvert_exporter": "python",
   "pygments_lexer": "ipython3",
   "version": "3.6.6"
  }
 },
 "nbformat": 4,
 "nbformat_minor": 2
}
