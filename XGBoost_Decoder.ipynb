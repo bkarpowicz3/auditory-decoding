{
 "cells": [
  {
   "cell_type": "code",
   "execution_count": 1,
   "metadata": {},
   "outputs": [
    {
     "name": "stderr",
     "output_type": "stream",
     "text": [
      "/opt/anaconda/miniconda2/envs/py34/lib/python3.6/site-packages/sklearn/cross_validation.py:41: DeprecationWarning: This module was deprecated in version 0.18 in favor of the model_selection module into which all the refactored classes and functions are moved. Also note that the interface of the new CV iterators are different from that of this module. This module will be removed in 0.20.\n",
      "  \"This module will be removed in 0.20.\", DeprecationWarning)\n"
     ]
    }
   ],
   "source": [
    "import glob\n",
    "import numpy as np \n",
    "import pandas as pd\n",
    "import xgboost as xgb\n",
    "from lfp_extracters import *\n",
    "import matplotlib.pyplot as plt\n",
    "from sklearn.cross_validation import ShuffleSplit"
   ]
  },
  {
   "cell_type": "markdown",
   "metadata": {},
   "source": [
    "## Load Data"
   ]
  },
  {
   "cell_type": "markdown",
   "metadata": {},
   "source": [
    "#### From numbers 0 to 200, randomly select 80% to be in the test data set. If the number is even, it is in the Stimulus A folder; if it is odd, it is in the Stimulus B folder."
   ]
  },
  {
   "cell_type": "code",
   "execution_count": 2,
   "metadata": {
    "collapsed": true
   },
   "outputs": [],
   "source": [
    "def generate_inds(): \n",
    "    numIter = 5\n",
    "    rs = ShuffleSplit(1200, n_iter=numIter, test_size=.2, random_state=0)\n",
    "    \n",
    "    A_files = glob.glob('data/data/Stimulus_A/LFP_15_300/*.csv')\n",
    "    B_files = glob.glob('data/data/Stimulus_B/LFP_15_300/*.csv')\n",
    "    files = np.array(A_files + B_files)\n",
    "    \n",
    "    train_inds = []\n",
    "    test_inds = []\n",
    "    for train, test in rs: \n",
    "        train_inds.append(train)\n",
    "        test_inds.append(test)\n",
    "        \n",
    "    train2 = []\n",
    "    val_inds = []\n",
    "    for t in train_inds: \n",
    "        s = ShuffleSplit(len(t), n_iter = 1, test_size = .2, random_state = 0)\n",
    "        for train, val in s: \n",
    "            train2.append(train)\n",
    "            val_inds.append(val)\n",
    "        \n",
    "    train_inds = train2\n",
    "        \n",
    "    return numIter, train_inds, val_inds, test_inds, files"
   ]
  },
  {
   "cell_type": "code",
   "execution_count": 3,
   "metadata": {
    "collapsed": true
   },
   "outputs": [],
   "source": [
    "def get_train_test(trial_num, train_inds, test_inds, val_inds, files):\n",
    "    train_files = files[train_inds[trial_num]]\n",
    "    test_files = files[test_inds[trial_num]]\n",
    "    val_files = files[val_inds[trial_num]]\n",
    "    return train_files, test_files, val_files"
   ]
  },
  {
   "cell_type": "markdown",
   "metadata": {},
   "source": [
    "#### Make Test Dataframe"
   ]
  },
  {
   "cell_type": "code",
   "execution_count": 4,
   "metadata": {
    "collapsed": true
   },
   "outputs": [],
   "source": [
    "def make_test_df(test_files, with_time, bin_function, threshold, bin_width):\n",
    "    channel_data = ['Ch1', 'Ch2', 'Ch3', 'Ch4', 'Ch5', 'Ch6', 'Ch7', 'Ch8', 'Ch9', 'Ch10', \\\n",
    "                   'Ch11', 'Ch12', 'Ch13', 'Ch14', 'Ch15', 'Ch16']\n",
    "    l = []\n",
    "    y_test = []\n",
    "    bin_width = int(bin_width)\n",
    "    \n",
    "    for i in range(len(test_files)):\n",
    "        n1 = np.genfromtxt(test_files[i], delimiter = ',')\n",
    "        if not with_time: \n",
    "            n1 = n1[0:16]\n",
    "        n_new = bin_function(n1, threshold, bin_width)\n",
    "        l.append(n_new) \n",
    "        if 'A' in test_files[i]: \n",
    "            y_test = y_test + [0]\n",
    "        else: \n",
    "            y_test = y_test + [1]\n",
    "\n",
    "    return l, y_test"
   ]
  },
  {
   "cell_type": "markdown",
   "metadata": {},
   "source": [
    "#### Make Train Dataframe"
   ]
  },
  {
   "cell_type": "code",
   "execution_count": 5,
   "metadata": {
    "collapsed": true
   },
   "outputs": [],
   "source": [
    "def make_train_df(train_files, with_time, bin_function, threshold, bin_width):\n",
    "    channel_data = ['Ch1', 'Ch2', 'Ch3', 'Ch4', 'Ch5', 'Ch6', 'Ch7', 'Ch8', 'Ch9', 'Ch10', \\\n",
    "                   'Ch11', 'Ch12', 'Ch13', 'Ch14', 'Ch15', 'Ch16']\n",
    "    \n",
    "    list_ = []\n",
    "    y_train = []\n",
    "    bin_width = int(bin_width)\n",
    "    \n",
    "    for i in range(len(train_files)):\n",
    "        n1 = np.genfromtxt(train_files[i], delimiter = ',')\n",
    "        if not with_time: \n",
    "            n1 = n1[0:16]\n",
    "        n_new = bin_function(n1, threshold, bin_width)\n",
    "        list_.append(n_new)\n",
    "        if 'A' in train_files[i]: \n",
    "            y_train = y_train + [0]\n",
    "        else: \n",
    "            y_train = y_train + [1]\n",
    "\n",
    "    return list_, y_train"
   ]
  },
  {
   "cell_type": "code",
   "execution_count": 6,
   "metadata": {
    "collapsed": true
   },
   "outputs": [],
   "source": [
    "def make_val_df(val_files, with_time, bin_function, threshold, bin_width):\n",
    "    channel_data = ['Ch1', 'Ch2', 'Ch3', 'Ch4', 'Ch5', 'Ch6', 'Ch7', 'Ch8', 'Ch9', 'Ch10', \\\n",
    "                   'Ch11', 'Ch12', 'Ch13', 'Ch14', 'Ch15', 'Ch16']\n",
    "    \n",
    "    list_ = []\n",
    "    y_val = []\n",
    "    bin_width = int(bin_width)\n",
    "    \n",
    "    for i in range(len(val_files)):\n",
    "        n1 = np.genfromtxt(val_files[i], delimiter = ',')\n",
    "        if not with_time: \n",
    "            n1 = n1[0:16]\n",
    "        n_new = bin_function(n1, threshold, bin_width)\n",
    "        list_.append(n_new)\n",
    "        if 'A' in val_files[i]: \n",
    "            y_val = y_val + [0]\n",
    "        else: \n",
    "            y_val = y_val + [1]\n",
    "\n",
    "    return list_, y_val"
   ]
  },
  {
   "cell_type": "markdown",
   "metadata": {},
   "source": [
    "### Threshold Crossing Rate"
   ]
  },
  {
   "cell_type": "code",
   "execution_count": 7,
   "metadata": {
    "collapsed": true
   },
   "outputs": [],
   "source": [
    "def threshold_crossing_rate(x, threshold, bin_width): \n",
    "    #apply this within train and test data production\n",
    "    inds = range(0, 6001, int(bin_width))\n",
    "    hastime = len(x) == 17\n",
    "    newx = []\n",
    "    if hastime: \n",
    "        t = x[16]\n",
    "    for i in range(0, len(inds) - 1): \n",
    "        sub = x[0:16, inds[i]:inds[i+1]]\n",
    "        count_above = np.sum(abs(np.diff(sub > threshold)), axis = 1)/float(bin_width)\n",
    "        if hastime:\n",
    "            t_seg = np.reshape(t[inds[i]], (1,)) #uses time stamp at beginning of each bin\n",
    "            count_above = np.concatenate((count_above, t_seg))\n",
    "        newx.append(count_above)\n",
    "    return np.array(newx)"
   ]
  },
  {
   "cell_type": "markdown",
   "metadata": {},
   "source": [
    "### RMS"
   ]
  },
  {
   "cell_type": "code",
   "execution_count": 8,
   "metadata": {
    "collapsed": true
   },
   "outputs": [],
   "source": [
    "def root_mean_square(x, threshold, bin_width): \n",
    "    inds = range(0, 6001, bin_width)\n",
    "    hastime = len(x) == 17\n",
    "    newx = []\n",
    "    if hastime: \n",
    "        t = x[16]\n",
    "    for i in range(0, len(inds) - 1): \n",
    "        sub = x[0:16, inds[i]:inds[i+1]]\n",
    "        rms = np.sqrt(np.mean(sub**2, axis = 1)) \n",
    "        \n",
    "        if hastime: \n",
    "            t_seg = np.reshape(t[inds[i]], (1,))\n",
    "            rms = np.concatenate((rms, t_seg))\n",
    "        newx.append(rms)\n",
    "    return np.array(newx)"
   ]
  },
  {
   "cell_type": "markdown",
   "metadata": {},
   "source": [
    "### RMS in Gamma Band"
   ]
  },
  {
   "cell_type": "code",
   "execution_count": 9,
   "metadata": {
    "collapsed": true
   },
   "outputs": [],
   "source": [
    "def power_gamma_band(x, threshold, bin_width): \n",
    "    inds = range(0, 6001, bin_width)\n",
    "    hastime = len(x) == 17\n",
    "    newx = [] \n",
    "    #make bandpass filter for 30-100Hz \n",
    "    fs = 6000\n",
    "    nyq = 0.5 * fs\n",
    "    cutOff_L = 30\n",
    "    cutOff_H = 100\n",
    "    low = cutOff_L / nyq\n",
    "    high = cutOff_H / nyq\n",
    "    order = 2\n",
    "    b, a = signal.butter(order, [low, high], btype='band')\n",
    "    \n",
    "    if hastime: \n",
    "        t = x[16]\n",
    "    for i in range(0, len(inds) - 1): \n",
    "        sub = x[0:16, inds[i]:inds[i+1]]\n",
    "        sub_f = signal.lfilter(b, a, sub)\n",
    "        rms = np.sqrt(np.mean(sub**2, axis = 1))\n",
    "        if hastime: \n",
    "            t_seg = np.reshape(t[inds[i]], (1,))\n",
    "            rms = np.concatenate((rms, t_seg))\n",
    "        newx.append(rms)\n",
    "    return np.array(newx)"
   ]
  },
  {
   "cell_type": "code",
   "execution_count": 10,
   "metadata": {
    "collapsed": true
   },
   "outputs": [],
   "source": [
    "def no_change(x, threshold, bin_width): \n",
    "    return x"
   ]
  },
  {
   "cell_type": "markdown",
   "metadata": {},
   "source": [
    "## Create XGBoost Classifiers"
   ]
  },
  {
   "cell_type": "code",
   "execution_count": 28,
   "metadata": {},
   "outputs": [],
   "source": [
    "def fit(val_df, train_df, test_df, y_val, y_train, y_test):\n",
    "\n",
    "    max_depth = 3\n",
    "    eval_set = [(train_df, y_train), (val_df, y_val)] \n",
    "    xg = xgb.XGBClassifier(\n",
    "                            objective = 'binary:logistic',\n",
    "                            learning_rate = 0.1,\n",
    "                            seed = 2925, \n",
    "                            max_depth = max_depth\n",
    "                            )\n",
    "    bst2 = xg.fit(train_df, np.array(y_train), \n",
    "                  eval_metric= \"logloss\", \n",
    "                  eval_set= eval_set,\n",
    "                  early_stopping_rounds = 10) \n",
    "    return bst2 "
   ]
  },
  {
   "cell_type": "code",
   "execution_count": 12,
   "metadata": {
    "collapsed": true
   },
   "outputs": [],
   "source": [
    "def predict(bst, test_df): \n",
    "    y_test_predicted = bst.predict(np.array(test_df))\n",
    "    return y_test_predicted"
   ]
  },
  {
   "cell_type": "markdown",
   "metadata": {},
   "source": [
    "## Main"
   ]
  },
  {
   "cell_type": "code",
   "execution_count": 33,
   "metadata": {},
   "outputs": [],
   "source": [
    "def main(): \n",
    "    with_time = False\n",
    "    threshold = 0.010 \n",
    "    bin_width = 265 \n",
    "    bin_function = power_gamma_band \n",
    "    accuracies = {} \n",
    "    counter = 1\n",
    "\n",
    "    numIters, train_inds, val_inds, test_inds, files = generate_inds()\n",
    "    y_predicted = []\n",
    "    y_actual = []\n",
    "    for i in range(numIters): \n",
    "        print('Iteration ' + str(i+1) + ' of ' + str(numIters))\n",
    "        train_files, test_files, val_files = get_train_test(i, train_inds, test_inds, val_inds, files)\n",
    "        test_df, y_test = make_test_df(test_files, with_time, bin_function, threshold, bin_width)\n",
    "        train_df, y_train = make_train_df(train_files, with_time, bin_function, threshold, bin_width)\n",
    "        val_df, y_val = make_val_df(val_files, with_time, bin_function, threshold, bin_width)\n",
    "        train_df = np.array(train_df)\n",
    "        test_df = np.array(test_df)\n",
    "        val_df = np.array(val_df)\n",
    "        \n",
    "        if with_time: \n",
    "            all_times = np.concatenate((train_df[:,:,-1], test_df[:,:,-1], val_df[:,:,-1])) \n",
    "            overall_time_mean = all_times.mean()\n",
    "            overall_time_std = all_times.std() * 100\n",
    "            new_times_train = (train_df[:,:,-1]-overall_time_mean)/overall_time_std\n",
    "            new_times_test = (test_df[:,:,-1]-overall_time_mean)/overall_time_std\n",
    "            new_times_val = (val_df[:,:,-1]-overall_time_mean)/overall_time_std\n",
    "            train_df[:,:,-1] = new_times_train\n",
    "            test_df[:,:,-1] = new_times_test\n",
    "            val_df[:,:,-1] = new_times_val\n",
    "            \n",
    "        if with_time: \n",
    "            test_df = np.reshape(test_df, (240,(6000//bin_width)*17,))\n",
    "            train_df = np.reshape(train_df, (768,(6000//bin_width)*17,))\n",
    "            val_df = np.reshape(val_df, (192,(6000//bin_width)*17,))\n",
    "        else: \n",
    "            test_df = np.reshape(test_df, (240,(6000//bin_width)*16,)) \n",
    "            train_df = np.reshape(train_df, (768,(6000//bin_width)*16,)) \n",
    "            val_df = np.reshape(val_df, (192,(6000//bin_width)*16,)) \n",
    "        \n",
    "        y_actual.append(y_test)\n",
    "\n",
    "        print('Fitting...')\n",
    "        bst2 = fit(val_df, train_df, test_df, np.transpose(y_val), np.transpose(y_train), np.transpose(y_test))\n",
    "        print('Predicting...')\n",
    "        y_test_predicted = predict(bst2, test_df)\n",
    "        y_predicted.append(y_test_predicted)\n",
    "\n",
    "    y_predicted = np.round(y_predicted)\n",
    "    accs = []\n",
    "    for j in range(0, len(y_predicted)): \n",
    "        p = y_predicted[j]\n",
    "        a = y_actual[j]\n",
    "        acc = np.sum(np.array(a) == np.array(p)) / float(len(a))\n",
    "        accs.append(acc)\n",
    "        print('Accuracy for iteration ' + str(j+1) + ': ' + str(acc))\n",
    "    n = (np.mean(accs), np.std(accs)) #tuple of mean accuracy, standard dev \n",
    "    accuracies[bin_width] = n\n",
    "\n",
    "    counter += 1\n",
    "\n",
    "    return accuracies, bst2"
   ]
  },
  {
   "cell_type": "code",
   "execution_count": 34,
   "metadata": {
    "scrolled": true
   },
   "outputs": [
    {
     "name": "stdout",
     "output_type": "stream",
     "text": [
      "Iteration 1 of 5\n",
      "Fitting...\n",
      "[0]\tvalidation_0-logloss:0.653848\tvalidation_1-logloss:0.664722\n",
      "Multiple eval metrics have been passed: 'validation_1-logloss' will be used for early stopping.\n",
      "\n",
      "Will train until validation_1-logloss hasn't improved in 10 rounds.\n",
      "[1]\tvalidation_0-logloss:0.620509\tvalidation_1-logloss:0.638646\n",
      "[2]\tvalidation_0-logloss:0.590272\tvalidation_1-logloss:0.62179\n",
      "[3]\tvalidation_0-logloss:0.564219\tvalidation_1-logloss:0.607073\n",
      "[4]\tvalidation_0-logloss:0.541591\tvalidation_1-logloss:0.592134\n",
      "[5]\tvalidation_0-logloss:0.521125\tvalidation_1-logloss:0.582791\n",
      "[6]\tvalidation_0-logloss:0.503028\tvalidation_1-logloss:0.573296\n",
      "[7]\tvalidation_0-logloss:0.484766\tvalidation_1-logloss:0.564411\n",
      "[8]\tvalidation_0-logloss:0.469974\tvalidation_1-logloss:0.556335\n",
      "[9]\tvalidation_0-logloss:0.45489\tvalidation_1-logloss:0.54936\n",
      "[10]\tvalidation_0-logloss:0.441189\tvalidation_1-logloss:0.544462\n",
      "[11]\tvalidation_0-logloss:0.427927\tvalidation_1-logloss:0.538298\n",
      "[12]\tvalidation_0-logloss:0.414021\tvalidation_1-logloss:0.536519\n",
      "[13]\tvalidation_0-logloss:0.403279\tvalidation_1-logloss:0.528781\n",
      "[14]\tvalidation_0-logloss:0.392381\tvalidation_1-logloss:0.524378\n",
      "[15]\tvalidation_0-logloss:0.382276\tvalidation_1-logloss:0.523029\n",
      "[16]\tvalidation_0-logloss:0.372624\tvalidation_1-logloss:0.518141\n",
      "[17]\tvalidation_0-logloss:0.364165\tvalidation_1-logloss:0.512845\n",
      "[18]\tvalidation_0-logloss:0.354437\tvalidation_1-logloss:0.511068\n",
      "[19]\tvalidation_0-logloss:0.345413\tvalidation_1-logloss:0.511727\n",
      "[20]\tvalidation_0-logloss:0.337324\tvalidation_1-logloss:0.509547\n",
      "[21]\tvalidation_0-logloss:0.329657\tvalidation_1-logloss:0.506784\n",
      "[22]\tvalidation_0-logloss:0.321237\tvalidation_1-logloss:0.507972\n",
      "[23]\tvalidation_0-logloss:0.314242\tvalidation_1-logloss:0.505206\n",
      "[24]\tvalidation_0-logloss:0.308067\tvalidation_1-logloss:0.505066\n",
      "[25]\tvalidation_0-logloss:0.300881\tvalidation_1-logloss:0.504484\n",
      "[26]\tvalidation_0-logloss:0.294155\tvalidation_1-logloss:0.501787\n",
      "[27]\tvalidation_0-logloss:0.288519\tvalidation_1-logloss:0.499565\n",
      "[28]\tvalidation_0-logloss:0.281899\tvalidation_1-logloss:0.497413\n",
      "[29]\tvalidation_0-logloss:0.27731\tvalidation_1-logloss:0.495262\n",
      "[30]\tvalidation_0-logloss:0.271828\tvalidation_1-logloss:0.496076\n",
      "[31]\tvalidation_0-logloss:0.265065\tvalidation_1-logloss:0.495839\n",
      "[32]\tvalidation_0-logloss:0.259116\tvalidation_1-logloss:0.493922\n",
      "[33]\tvalidation_0-logloss:0.253952\tvalidation_1-logloss:0.491286\n",
      "[34]\tvalidation_0-logloss:0.249457\tvalidation_1-logloss:0.493421\n",
      "[35]\tvalidation_0-logloss:0.244277\tvalidation_1-logloss:0.492754\n",
      "[36]\tvalidation_0-logloss:0.240426\tvalidation_1-logloss:0.493235\n",
      "[37]\tvalidation_0-logloss:0.235303\tvalidation_1-logloss:0.495905\n",
      "[38]\tvalidation_0-logloss:0.231676\tvalidation_1-logloss:0.494748\n",
      "[39]\tvalidation_0-logloss:0.22678\tvalidation_1-logloss:0.495906\n",
      "[40]\tvalidation_0-logloss:0.222914\tvalidation_1-logloss:0.496718\n",
      "[41]\tvalidation_0-logloss:0.219399\tvalidation_1-logloss:0.496467\n",
      "[42]\tvalidation_0-logloss:0.215461\tvalidation_1-logloss:0.496095\n",
      "[43]\tvalidation_0-logloss:0.211399\tvalidation_1-logloss:0.495353\n",
      "Stopping. Best iteration:\n",
      "[33]\tvalidation_0-logloss:0.253952\tvalidation_1-logloss:0.491286\n",
      "\n",
      "Predicting...\n",
      "Iteration 2 of 5\n"
     ]
    },
    {
     "name": "stderr",
     "output_type": "stream",
     "text": [
      "/opt/anaconda/miniconda2/envs/py34/lib/python3.6/site-packages/sklearn/preprocessing/label.py:151: DeprecationWarning: The truth value of an empty array is ambiguous. Returning False, but in future this will result in an error. Use `array.size > 0` to check that an array is not empty.\n",
      "  if diff:\n"
     ]
    },
    {
     "name": "stdout",
     "output_type": "stream",
     "text": [
      "Fitting...\n",
      "[0]\tvalidation_0-logloss:0.653848\tvalidation_1-logloss:0.664722\n",
      "Multiple eval metrics have been passed: 'validation_1-logloss' will be used for early stopping.\n",
      "\n",
      "Will train until validation_1-logloss hasn't improved in 10 rounds.\n",
      "[1]\tvalidation_0-logloss:0.620509\tvalidation_1-logloss:0.638646\n",
      "[2]\tvalidation_0-logloss:0.590272\tvalidation_1-logloss:0.62179\n",
      "[3]\tvalidation_0-logloss:0.564219\tvalidation_1-logloss:0.607073\n",
      "[4]\tvalidation_0-logloss:0.541591\tvalidation_1-logloss:0.592134\n",
      "[5]\tvalidation_0-logloss:0.521125\tvalidation_1-logloss:0.582791\n",
      "[6]\tvalidation_0-logloss:0.503028\tvalidation_1-logloss:0.573296\n",
      "[7]\tvalidation_0-logloss:0.484766\tvalidation_1-logloss:0.564411\n",
      "[8]\tvalidation_0-logloss:0.469974\tvalidation_1-logloss:0.556335\n",
      "[9]\tvalidation_0-logloss:0.45489\tvalidation_1-logloss:0.54936\n",
      "[10]\tvalidation_0-logloss:0.441189\tvalidation_1-logloss:0.544462\n",
      "[11]\tvalidation_0-logloss:0.427927\tvalidation_1-logloss:0.538298\n",
      "[12]\tvalidation_0-logloss:0.414021\tvalidation_1-logloss:0.536519\n",
      "[13]\tvalidation_0-logloss:0.403279\tvalidation_1-logloss:0.528781\n",
      "[14]\tvalidation_0-logloss:0.392381\tvalidation_1-logloss:0.524378\n",
      "[15]\tvalidation_0-logloss:0.382276\tvalidation_1-logloss:0.523029\n",
      "[16]\tvalidation_0-logloss:0.372624\tvalidation_1-logloss:0.518141\n",
      "[17]\tvalidation_0-logloss:0.364165\tvalidation_1-logloss:0.512845\n",
      "[18]\tvalidation_0-logloss:0.354437\tvalidation_1-logloss:0.511068\n",
      "[19]\tvalidation_0-logloss:0.345413\tvalidation_1-logloss:0.511727\n",
      "[20]\tvalidation_0-logloss:0.337324\tvalidation_1-logloss:0.509547\n",
      "[21]\tvalidation_0-logloss:0.329657\tvalidation_1-logloss:0.506784\n",
      "[22]\tvalidation_0-logloss:0.321237\tvalidation_1-logloss:0.507972\n",
      "[23]\tvalidation_0-logloss:0.314242\tvalidation_1-logloss:0.505206\n",
      "[24]\tvalidation_0-logloss:0.308067\tvalidation_1-logloss:0.505066\n",
      "[25]\tvalidation_0-logloss:0.300881\tvalidation_1-logloss:0.504484\n",
      "[26]\tvalidation_0-logloss:0.294155\tvalidation_1-logloss:0.501787\n",
      "[27]\tvalidation_0-logloss:0.288519\tvalidation_1-logloss:0.499565\n",
      "[28]\tvalidation_0-logloss:0.281899\tvalidation_1-logloss:0.497413\n",
      "[29]\tvalidation_0-logloss:0.27731\tvalidation_1-logloss:0.495262\n",
      "[30]\tvalidation_0-logloss:0.271828\tvalidation_1-logloss:0.496076\n",
      "[31]\tvalidation_0-logloss:0.265065\tvalidation_1-logloss:0.495839\n",
      "[32]\tvalidation_0-logloss:0.259116\tvalidation_1-logloss:0.493922\n",
      "[33]\tvalidation_0-logloss:0.253952\tvalidation_1-logloss:0.491286\n",
      "[34]\tvalidation_0-logloss:0.249457\tvalidation_1-logloss:0.493421\n",
      "[35]\tvalidation_0-logloss:0.244277\tvalidation_1-logloss:0.492754\n",
      "[36]\tvalidation_0-logloss:0.240426\tvalidation_1-logloss:0.493235\n",
      "[37]\tvalidation_0-logloss:0.235303\tvalidation_1-logloss:0.495905\n",
      "[38]\tvalidation_0-logloss:0.231676\tvalidation_1-logloss:0.494748\n",
      "[39]\tvalidation_0-logloss:0.22678\tvalidation_1-logloss:0.495906\n",
      "[40]\tvalidation_0-logloss:0.222914\tvalidation_1-logloss:0.496718\n",
      "[41]\tvalidation_0-logloss:0.219399\tvalidation_1-logloss:0.496467\n",
      "[42]\tvalidation_0-logloss:0.215461\tvalidation_1-logloss:0.496095\n",
      "[43]\tvalidation_0-logloss:0.211399\tvalidation_1-logloss:0.495353\n",
      "Stopping. Best iteration:\n",
      "[33]\tvalidation_0-logloss:0.253952\tvalidation_1-logloss:0.491286\n",
      "\n",
      "Predicting...\n",
      "Iteration 3 of 5\n"
     ]
    },
    {
     "name": "stderr",
     "output_type": "stream",
     "text": [
      "/opt/anaconda/miniconda2/envs/py34/lib/python3.6/site-packages/sklearn/preprocessing/label.py:151: DeprecationWarning: The truth value of an empty array is ambiguous. Returning False, but in future this will result in an error. Use `array.size > 0` to check that an array is not empty.\n",
      "  if diff:\n"
     ]
    },
    {
     "name": "stdout",
     "output_type": "stream",
     "text": [
      "Fitting...\n",
      "[0]\tvalidation_0-logloss:0.653848\tvalidation_1-logloss:0.664722\n",
      "Multiple eval metrics have been passed: 'validation_1-logloss' will be used for early stopping.\n",
      "\n",
      "Will train until validation_1-logloss hasn't improved in 10 rounds.\n",
      "[1]\tvalidation_0-logloss:0.620509\tvalidation_1-logloss:0.638646\n",
      "[2]\tvalidation_0-logloss:0.590272\tvalidation_1-logloss:0.62179\n",
      "[3]\tvalidation_0-logloss:0.564219\tvalidation_1-logloss:0.607073\n",
      "[4]\tvalidation_0-logloss:0.541591\tvalidation_1-logloss:0.592134\n",
      "[5]\tvalidation_0-logloss:0.521125\tvalidation_1-logloss:0.582791\n",
      "[6]\tvalidation_0-logloss:0.503028\tvalidation_1-logloss:0.573296\n",
      "[7]\tvalidation_0-logloss:0.484766\tvalidation_1-logloss:0.564411\n",
      "[8]\tvalidation_0-logloss:0.469974\tvalidation_1-logloss:0.556335\n",
      "[9]\tvalidation_0-logloss:0.45489\tvalidation_1-logloss:0.54936\n",
      "[10]\tvalidation_0-logloss:0.441189\tvalidation_1-logloss:0.544462\n",
      "[11]\tvalidation_0-logloss:0.427927\tvalidation_1-logloss:0.538298\n",
      "[12]\tvalidation_0-logloss:0.414021\tvalidation_1-logloss:0.536519\n",
      "[13]\tvalidation_0-logloss:0.403279\tvalidation_1-logloss:0.528781\n",
      "[14]\tvalidation_0-logloss:0.392381\tvalidation_1-logloss:0.524378\n",
      "[15]\tvalidation_0-logloss:0.382276\tvalidation_1-logloss:0.523029\n",
      "[16]\tvalidation_0-logloss:0.372624\tvalidation_1-logloss:0.518141\n",
      "[17]\tvalidation_0-logloss:0.364165\tvalidation_1-logloss:0.512845\n",
      "[18]\tvalidation_0-logloss:0.354437\tvalidation_1-logloss:0.511068\n",
      "[19]\tvalidation_0-logloss:0.345413\tvalidation_1-logloss:0.511727\n",
      "[20]\tvalidation_0-logloss:0.337324\tvalidation_1-logloss:0.509547\n",
      "[21]\tvalidation_0-logloss:0.329657\tvalidation_1-logloss:0.506784\n",
      "[22]\tvalidation_0-logloss:0.321237\tvalidation_1-logloss:0.507972\n",
      "[23]\tvalidation_0-logloss:0.314242\tvalidation_1-logloss:0.505206\n",
      "[24]\tvalidation_0-logloss:0.308067\tvalidation_1-logloss:0.505066\n",
      "[25]\tvalidation_0-logloss:0.300881\tvalidation_1-logloss:0.504484\n",
      "[26]\tvalidation_0-logloss:0.294155\tvalidation_1-logloss:0.501787\n",
      "[27]\tvalidation_0-logloss:0.288519\tvalidation_1-logloss:0.499565\n",
      "[28]\tvalidation_0-logloss:0.281899\tvalidation_1-logloss:0.497413\n",
      "[29]\tvalidation_0-logloss:0.27731\tvalidation_1-logloss:0.495262\n",
      "[30]\tvalidation_0-logloss:0.271828\tvalidation_1-logloss:0.496076\n",
      "[31]\tvalidation_0-logloss:0.265065\tvalidation_1-logloss:0.495839\n",
      "[32]\tvalidation_0-logloss:0.259116\tvalidation_1-logloss:0.493922\n",
      "[33]\tvalidation_0-logloss:0.253952\tvalidation_1-logloss:0.491286\n",
      "[34]\tvalidation_0-logloss:0.249457\tvalidation_1-logloss:0.493421\n",
      "[35]\tvalidation_0-logloss:0.244277\tvalidation_1-logloss:0.492754\n",
      "[36]\tvalidation_0-logloss:0.240426\tvalidation_1-logloss:0.493235\n",
      "[37]\tvalidation_0-logloss:0.235303\tvalidation_1-logloss:0.495905\n",
      "[38]\tvalidation_0-logloss:0.231676\tvalidation_1-logloss:0.494748\n",
      "[39]\tvalidation_0-logloss:0.22678\tvalidation_1-logloss:0.495906\n",
      "[40]\tvalidation_0-logloss:0.222914\tvalidation_1-logloss:0.496718\n",
      "[41]\tvalidation_0-logloss:0.219399\tvalidation_1-logloss:0.496467\n",
      "[42]\tvalidation_0-logloss:0.215461\tvalidation_1-logloss:0.496095\n",
      "[43]\tvalidation_0-logloss:0.211399\tvalidation_1-logloss:0.495353\n",
      "Stopping. Best iteration:\n",
      "[33]\tvalidation_0-logloss:0.253952\tvalidation_1-logloss:0.491286\n",
      "\n",
      "Predicting...\n",
      "Iteration 4 of 5\n"
     ]
    },
    {
     "name": "stderr",
     "output_type": "stream",
     "text": [
      "/opt/anaconda/miniconda2/envs/py34/lib/python3.6/site-packages/sklearn/preprocessing/label.py:151: DeprecationWarning: The truth value of an empty array is ambiguous. Returning False, but in future this will result in an error. Use `array.size > 0` to check that an array is not empty.\n",
      "  if diff:\n"
     ]
    },
    {
     "name": "stdout",
     "output_type": "stream",
     "text": [
      "Fitting...\n",
      "[0]\tvalidation_0-logloss:0.653848\tvalidation_1-logloss:0.664722\n",
      "Multiple eval metrics have been passed: 'validation_1-logloss' will be used for early stopping.\n",
      "\n",
      "Will train until validation_1-logloss hasn't improved in 10 rounds.\n",
      "[1]\tvalidation_0-logloss:0.620509\tvalidation_1-logloss:0.638646\n",
      "[2]\tvalidation_0-logloss:0.590272\tvalidation_1-logloss:0.62179\n",
      "[3]\tvalidation_0-logloss:0.564219\tvalidation_1-logloss:0.607073\n",
      "[4]\tvalidation_0-logloss:0.541591\tvalidation_1-logloss:0.592134\n",
      "[5]\tvalidation_0-logloss:0.521125\tvalidation_1-logloss:0.582791\n",
      "[6]\tvalidation_0-logloss:0.503028\tvalidation_1-logloss:0.573296\n",
      "[7]\tvalidation_0-logloss:0.484766\tvalidation_1-logloss:0.564411\n",
      "[8]\tvalidation_0-logloss:0.469974\tvalidation_1-logloss:0.556335\n",
      "[9]\tvalidation_0-logloss:0.45489\tvalidation_1-logloss:0.54936\n",
      "[10]\tvalidation_0-logloss:0.441189\tvalidation_1-logloss:0.544462\n",
      "[11]\tvalidation_0-logloss:0.427927\tvalidation_1-logloss:0.538298\n",
      "[12]\tvalidation_0-logloss:0.414021\tvalidation_1-logloss:0.536519\n",
      "[13]\tvalidation_0-logloss:0.403279\tvalidation_1-logloss:0.528781\n",
      "[14]\tvalidation_0-logloss:0.392381\tvalidation_1-logloss:0.524378\n",
      "[15]\tvalidation_0-logloss:0.382276\tvalidation_1-logloss:0.523029\n",
      "[16]\tvalidation_0-logloss:0.372624\tvalidation_1-logloss:0.518141\n",
      "[17]\tvalidation_0-logloss:0.364165\tvalidation_1-logloss:0.512845\n",
      "[18]\tvalidation_0-logloss:0.354437\tvalidation_1-logloss:0.511068\n",
      "[19]\tvalidation_0-logloss:0.345413\tvalidation_1-logloss:0.511727\n",
      "[20]\tvalidation_0-logloss:0.337324\tvalidation_1-logloss:0.509547\n",
      "[21]\tvalidation_0-logloss:0.329657\tvalidation_1-logloss:0.506784\n",
      "[22]\tvalidation_0-logloss:0.321237\tvalidation_1-logloss:0.507972\n",
      "[23]\tvalidation_0-logloss:0.314242\tvalidation_1-logloss:0.505206\n",
      "[24]\tvalidation_0-logloss:0.308067\tvalidation_1-logloss:0.505066\n",
      "[25]\tvalidation_0-logloss:0.300881\tvalidation_1-logloss:0.504484\n",
      "[26]\tvalidation_0-logloss:0.294155\tvalidation_1-logloss:0.501787\n",
      "[27]\tvalidation_0-logloss:0.288519\tvalidation_1-logloss:0.499565\n",
      "[28]\tvalidation_0-logloss:0.281899\tvalidation_1-logloss:0.497413\n",
      "[29]\tvalidation_0-logloss:0.27731\tvalidation_1-logloss:0.495262\n",
      "[30]\tvalidation_0-logloss:0.271828\tvalidation_1-logloss:0.496076\n",
      "[31]\tvalidation_0-logloss:0.265065\tvalidation_1-logloss:0.495839\n",
      "[32]\tvalidation_0-logloss:0.259116\tvalidation_1-logloss:0.493922\n",
      "[33]\tvalidation_0-logloss:0.253952\tvalidation_1-logloss:0.491286\n",
      "[34]\tvalidation_0-logloss:0.249457\tvalidation_1-logloss:0.493421\n",
      "[35]\tvalidation_0-logloss:0.244277\tvalidation_1-logloss:0.492754\n",
      "[36]\tvalidation_0-logloss:0.240426\tvalidation_1-logloss:0.493235\n",
      "[37]\tvalidation_0-logloss:0.235303\tvalidation_1-logloss:0.495905\n",
      "[38]\tvalidation_0-logloss:0.231676\tvalidation_1-logloss:0.494748\n",
      "[39]\tvalidation_0-logloss:0.22678\tvalidation_1-logloss:0.495906\n",
      "[40]\tvalidation_0-logloss:0.222914\tvalidation_1-logloss:0.496718\n",
      "[41]\tvalidation_0-logloss:0.219399\tvalidation_1-logloss:0.496467\n",
      "[42]\tvalidation_0-logloss:0.215461\tvalidation_1-logloss:0.496095\n",
      "[43]\tvalidation_0-logloss:0.211399\tvalidation_1-logloss:0.495353\n",
      "Stopping. Best iteration:\n",
      "[33]\tvalidation_0-logloss:0.253952\tvalidation_1-logloss:0.491286\n",
      "\n",
      "Predicting...\n",
      "Iteration 5 of 5\n"
     ]
    },
    {
     "name": "stderr",
     "output_type": "stream",
     "text": [
      "/opt/anaconda/miniconda2/envs/py34/lib/python3.6/site-packages/sklearn/preprocessing/label.py:151: DeprecationWarning: The truth value of an empty array is ambiguous. Returning False, but in future this will result in an error. Use `array.size > 0` to check that an array is not empty.\n",
      "  if diff:\n"
     ]
    },
    {
     "name": "stdout",
     "output_type": "stream",
     "text": [
      "Fitting...\n",
      "[0]\tvalidation_0-logloss:0.653848\tvalidation_1-logloss:0.664722\n",
      "Multiple eval metrics have been passed: 'validation_1-logloss' will be used for early stopping.\n",
      "\n",
      "Will train until validation_1-logloss hasn't improved in 10 rounds.\n",
      "[1]\tvalidation_0-logloss:0.620509\tvalidation_1-logloss:0.638646\n",
      "[2]\tvalidation_0-logloss:0.590272\tvalidation_1-logloss:0.62179\n",
      "[3]\tvalidation_0-logloss:0.564219\tvalidation_1-logloss:0.607073\n",
      "[4]\tvalidation_0-logloss:0.541591\tvalidation_1-logloss:0.592134\n",
      "[5]\tvalidation_0-logloss:0.521125\tvalidation_1-logloss:0.582791\n",
      "[6]\tvalidation_0-logloss:0.503028\tvalidation_1-logloss:0.573296\n",
      "[7]\tvalidation_0-logloss:0.484766\tvalidation_1-logloss:0.564411\n",
      "[8]\tvalidation_0-logloss:0.469974\tvalidation_1-logloss:0.556335\n",
      "[9]\tvalidation_0-logloss:0.45489\tvalidation_1-logloss:0.54936\n",
      "[10]\tvalidation_0-logloss:0.441189\tvalidation_1-logloss:0.544462\n",
      "[11]\tvalidation_0-logloss:0.427927\tvalidation_1-logloss:0.538298\n",
      "[12]\tvalidation_0-logloss:0.414021\tvalidation_1-logloss:0.536519\n",
      "[13]\tvalidation_0-logloss:0.403279\tvalidation_1-logloss:0.528781\n",
      "[14]\tvalidation_0-logloss:0.392381\tvalidation_1-logloss:0.524378\n",
      "[15]\tvalidation_0-logloss:0.382276\tvalidation_1-logloss:0.523029\n",
      "[16]\tvalidation_0-logloss:0.372624\tvalidation_1-logloss:0.518141\n",
      "[17]\tvalidation_0-logloss:0.364165\tvalidation_1-logloss:0.512845\n",
      "[18]\tvalidation_0-logloss:0.354437\tvalidation_1-logloss:0.511068\n",
      "[19]\tvalidation_0-logloss:0.345413\tvalidation_1-logloss:0.511727\n",
      "[20]\tvalidation_0-logloss:0.337324\tvalidation_1-logloss:0.509547\n",
      "[21]\tvalidation_0-logloss:0.329657\tvalidation_1-logloss:0.506784\n",
      "[22]\tvalidation_0-logloss:0.321237\tvalidation_1-logloss:0.507972\n",
      "[23]\tvalidation_0-logloss:0.314242\tvalidation_1-logloss:0.505206\n",
      "[24]\tvalidation_0-logloss:0.308067\tvalidation_1-logloss:0.505066\n",
      "[25]\tvalidation_0-logloss:0.300881\tvalidation_1-logloss:0.504484\n",
      "[26]\tvalidation_0-logloss:0.294155\tvalidation_1-logloss:0.501787\n",
      "[27]\tvalidation_0-logloss:0.288519\tvalidation_1-logloss:0.499565\n",
      "[28]\tvalidation_0-logloss:0.281899\tvalidation_1-logloss:0.497413\n",
      "[29]\tvalidation_0-logloss:0.27731\tvalidation_1-logloss:0.495262\n",
      "[30]\tvalidation_0-logloss:0.271828\tvalidation_1-logloss:0.496076\n",
      "[31]\tvalidation_0-logloss:0.265065\tvalidation_1-logloss:0.495839\n",
      "[32]\tvalidation_0-logloss:0.259116\tvalidation_1-logloss:0.493922\n",
      "[33]\tvalidation_0-logloss:0.253952\tvalidation_1-logloss:0.491286\n",
      "[34]\tvalidation_0-logloss:0.249457\tvalidation_1-logloss:0.493421\n",
      "[35]\tvalidation_0-logloss:0.244277\tvalidation_1-logloss:0.492754\n",
      "[36]\tvalidation_0-logloss:0.240426\tvalidation_1-logloss:0.493235\n",
      "[37]\tvalidation_0-logloss:0.235303\tvalidation_1-logloss:0.495905\n",
      "[38]\tvalidation_0-logloss:0.231676\tvalidation_1-logloss:0.494748\n",
      "[39]\tvalidation_0-logloss:0.22678\tvalidation_1-logloss:0.495906\n",
      "[40]\tvalidation_0-logloss:0.222914\tvalidation_1-logloss:0.496718\n",
      "[41]\tvalidation_0-logloss:0.219399\tvalidation_1-logloss:0.496467\n",
      "[42]\tvalidation_0-logloss:0.215461\tvalidation_1-logloss:0.496095\n",
      "[43]\tvalidation_0-logloss:0.211399\tvalidation_1-logloss:0.495353\n",
      "Stopping. Best iteration:\n",
      "[33]\tvalidation_0-logloss:0.253952\tvalidation_1-logloss:0.491286\n",
      "\n",
      "Predicting...\n",
      "Accuracy for iteration 1: 0.8458333333333333\n",
      "Accuracy for iteration 2: 0.8875\n",
      "Accuracy for iteration 3: 0.8333333333333334\n",
      "Accuracy for iteration 4: 0.8791666666666667\n",
      "Accuracy for iteration 5: 0.8583333333333333\n"
     ]
    },
    {
     "name": "stderr",
     "output_type": "stream",
     "text": [
      "/opt/anaconda/miniconda2/envs/py34/lib/python3.6/site-packages/sklearn/preprocessing/label.py:151: DeprecationWarning: The truth value of an empty array is ambiguous. Returning False, but in future this will result in an error. Use `array.size > 0` to check that an array is not empty.\n",
      "  if diff:\n"
     ]
    }
   ],
   "source": [
    "if __name__ == '__main__':\n",
    "    accuracies, bst2 = main()"
   ]
  },
  {
   "cell_type": "markdown",
   "metadata": {},
   "source": [
    "## Plot Learning Curves"
   ]
  },
  {
   "cell_type": "code",
   "execution_count": 25,
   "metadata": {},
   "outputs": [],
   "source": [
    "results = bst2.evals_result()\n",
    "train = results['validation_0']['logloss']\n",
    "val = results['validation_1']['logloss']"
   ]
  },
  {
   "cell_type": "code",
   "execution_count": 26,
   "metadata": {
    "scrolled": true
   },
   "outputs": [
    {
     "data": {
      "image/png": "[encoded data removed]",
      "text/plain": [
       "<Figure size 432x288 with 1 Axes>"
      ]
     },
     "metadata": {},
     "output_type": "display_data"
    }
   ],
   "source": [
    "plt.plot(train)\n",
    "plt.plot(val)\n",
    "plt.xlabel('# iterations')\n",
    "plt.ylabel('logloss')\n",
    "plt.legend(['Train','Val','Test'])\n",
    "plt.show()"
   ]
  },
  {
   "cell_type": "code",
   "execution_count": 36,
   "metadata": {},
   "outputs": [
    {
     "data": {
      "text/plain": [
       "{265: (0.8608333333333335, 0.020172864061516988)}"
      ]
     },
     "execution_count": 36,
     "metadata": {},
     "output_type": "execute_result"
    }
   ],
   "source": [
    "accuracies"
   ]
  },
  {
   "cell_type": "code",
   "execution_count": null,
   "metadata": {
    "collapsed": true
   },
   "outputs": [],
   "source": []
  }
 ],
 "metadata": {
  "kernelspec": {
   "display_name": "Python [conda env:py34]",
   "language": "python",
   "name": "conda-env-py34-py"
  },
  "language_info": {
   "codemirror_mode": {
    "name": "ipython",
    "version": 3
   },
   "file_extension": ".py",
   "mimetype": "text/x-python",
   "name": "python",
   "nbconvert_exporter": "python",
   "pygments_lexer": "ipython3",
   "version": "3.6.6"
  }
 },
 "nbformat": 4,
 "nbformat_minor": 2
}
